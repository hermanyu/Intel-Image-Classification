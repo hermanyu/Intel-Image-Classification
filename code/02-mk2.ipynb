{
 "cells": [
  {
   "cell_type": "code",
   "execution_count": 1,
   "id": "cb581256-a072-4c9e-9518-a978897da605",
   "metadata": {},
   "outputs": [],
   "source": [
    "import os\n",
    "import numpy as np\n",
    "import pandas as pd\n",
    "\n",
    "\n",
    "import tensorflow as tf\n",
    "import keras\n",
    "from keras.models import Sequential\n",
    "from keras.layers import Conv2D, MaxPooling2D, Dense, Flatten, Dropout\n",
    "from keras.preprocessing.image import ImageDataGenerator\n",
    "from keras.callbacks import TensorBoard, EarlyStopping, ModelCheckpoint"
   ]
  },
  {
   "cell_type": "code",
   "execution_count": 2,
   "id": "ab6f711c-6595-4fc2-9c2f-0e1da7f200e8",
   "metadata": {},
   "outputs": [],
   "source": [
    "train_dir = '../data/seg_train/seg_train'\n",
    "test_dir = '../data/seg_test/seg_test'\n",
    "pred_dir = '../data/seg_pred/seg_pred'\n",
    "\n",
    "# implement data augmentation\n",
    "train_datagen = ImageDataGenerator(\n",
    "                    rescale=1./255,\n",
    "                    rotation_range=40,\n",
    "                    width_shift_range=0.2,\n",
    "                    height_shift_range=0.2,\n",
    "                    shear_range = 0.2,\n",
    "                    zoom_range = 0.2,\n",
    "                    horizontal_flip=True\n",
    "                )\n",
    "\n",
    "test_datagen = ImageDataGenerator(rescale=1./255)"
   ]
  },
  {
   "cell_type": "code",
   "execution_count": 3,
   "id": "04c7612d-11be-4b7e-80dd-e753a91c5ad4",
   "metadata": {},
   "outputs": [
    {
     "name": "stdout",
     "output_type": "stream",
     "text": [
      "Found 14034 images belonging to 6 classes.\n"
     ]
    }
   ],
   "source": [
    "train_generator = train_datagen.flow_from_directory(\n",
    "                        train_dir,\n",
    "                        target_size=(150,150),\n",
    "                        batch_size = 140,\n",
    "                        class_mode='categorical'\n",
    "                    )"
   ]
  },
  {
   "cell_type": "code",
   "execution_count": 4,
   "id": "055de035-3ac2-410d-b9d5-391b1b23b455",
   "metadata": {},
   "outputs": [
    {
     "name": "stdout",
     "output_type": "stream",
     "text": [
      "Found 3000 images belonging to 6 classes.\n"
     ]
    }
   ],
   "source": [
    "val_generator = test_datagen.flow_from_directory(\n",
    "                    test_dir,\n",
    "                    target_size = (150,150),\n",
    "                    batch_size = 30,    \n",
    "                    class_mode = 'categorical'\n",
    "                )"
   ]
  },
  {
   "cell_type": "code",
   "execution_count": 5,
   "id": "cfff7342-6e72-42d4-b166-3ada3bd01cbd",
   "metadata": {},
   "outputs": [],
   "source": [
    "# build Conv Net with regularization\n",
    "\n",
    "## instantiate basic Sequential model\n",
    "model = keras.Sequential()\n",
    "\n",
    "# add 1st Conv layer (w/ Max Pooling)\n",
    "model.add( Conv2D(filters = 64, kernel_size=(3,3), activation='relu', padding='same', input_shape=(150,150,3)) )\n",
    "model.add( Conv2D(filters = 64, kernel_size=(3,3), activation='relu', padding='same') )\n",
    "model.add( MaxPooling2D( pool_size=(2,2) ) )\n",
    "\n",
    "# add 2nd Conv layer (w/ Max Pooling)\n",
    "model.add( Conv2D(filters = 128, kernel_size=(3,3), activation='relu', padding='same') )\n",
    "model.add( Conv2D(filters = 128, kernel_size=(3,3), activation='relu') )\n",
    "model.add( MaxPooling2D( pool_size=(2,2) ))\n",
    "\n",
    "# add 3rd Conv layer (w/Max Pooling)\n",
    "model.add( Conv2D(filters = 256, kernel_size=(3,3), activation='relu', padding='same') )\n",
    "model.add( Conv2D(filters = 256, kernel_size=(3,3), activation='relu') )\n",
    "model.add( MaxPooling2D( pool_size=(2,2) ))\n",
    "\n",
    "# add 4th Conv layer (w/ Max Pooling)\n",
    "model.add( Conv2D(filters = 512, kernel_size=(3,3), activation='relu', padding='same') )\n",
    "model.add( Conv2D(filters = 512, kernel_size=(3,3), activation='relu') )\n",
    "model.add( MaxPooling2D( pool_size=(2,2) ))\n",
    "\n",
    "# flatten\n",
    "model.add( Flatten())\n",
    "\n",
    "# add drop out later for regularization\n",
    "model.add( Dropout(0.5))\n",
    "\n",
    "# hidden layers and output\n",
    "model.add( Dense(units=1024, activation='relu') )\n",
    "model.add( Dense(units=512, activation='relu') )\n",
    "model.add( Dense(units=6, activation='softmax') )\n",
    "\n",
    "\n",
    "model.compile(\n",
    "        loss = 'categorical_crossentropy',\n",
    "        optimizer = tf.keras.optimizers.Adam(learning_rate=0.0005),\n",
    "        metrics = ['acc']\n",
    ")"
   ]
  },
  {
   "cell_type": "code",
   "execution_count": 6,
   "id": "edf6cee8-14fd-4a51-82db-25f11699a2ec",
   "metadata": {},
   "outputs": [
    {
     "name": "stdout",
     "output_type": "stream",
     "text": [
      "Model: \"sequential\"\n",
      "_________________________________________________________________\n",
      " Layer (type)                Output Shape              Param #   \n",
      "=================================================================\n",
      " conv2d (Conv2D)             (None, 150, 150, 64)      1792      \n",
      "                                                                 \n",
      " conv2d_1 (Conv2D)           (None, 150, 150, 64)      36928     \n",
      "                                                                 \n",
      " max_pooling2d (MaxPooling2D  (None, 75, 75, 64)       0         \n",
      " )                                                               \n",
      "                                                                 \n",
      " conv2d_2 (Conv2D)           (None, 75, 75, 128)       73856     \n",
      "                                                                 \n",
      " conv2d_3 (Conv2D)           (None, 73, 73, 128)       147584    \n",
      "                                                                 \n",
      " max_pooling2d_1 (MaxPooling  (None, 36, 36, 128)      0         \n",
      " 2D)                                                             \n",
      "                                                                 \n",
      " conv2d_4 (Conv2D)           (None, 36, 36, 256)       295168    \n",
      "                                                                 \n",
      " conv2d_5 (Conv2D)           (None, 34, 34, 256)       590080    \n",
      "                                                                 \n",
      " max_pooling2d_2 (MaxPooling  (None, 17, 17, 256)      0         \n",
      " 2D)                                                             \n",
      "                                                                 \n",
      " conv2d_6 (Conv2D)           (None, 17, 17, 512)       1180160   \n",
      "                                                                 \n",
      " conv2d_7 (Conv2D)           (None, 15, 15, 512)       2359808   \n",
      "                                                                 \n",
      " max_pooling2d_3 (MaxPooling  (None, 7, 7, 512)        0         \n",
      " 2D)                                                             \n",
      "                                                                 \n",
      " flatten (Flatten)           (None, 25088)             0         \n",
      "                                                                 \n",
      " dropout (Dropout)           (None, 25088)             0         \n",
      "                                                                 \n",
      " dense (Dense)               (None, 1024)              25691136  \n",
      "                                                                 \n",
      " dense_1 (Dense)             (None, 512)               524800    \n",
      "                                                                 \n",
      " dense_2 (Dense)             (None, 6)                 3078      \n",
      "                                                                 \n",
      "=================================================================\n",
      "Total params: 30,904,390\n",
      "Trainable params: 30,904,390\n",
      "Non-trainable params: 0\n",
      "_________________________________________________________________\n"
     ]
    }
   ],
   "source": [
    "# take a look at the architecture\n",
    "model.summary()"
   ]
  },
  {
   "cell_type": "code",
   "execution_count": 7,
   "id": "b8b7055b-ea55-4ff9-9b8a-f2be50f90d49",
   "metadata": {},
   "outputs": [
    {
     "name": "stdout",
     "output_type": "stream",
     "text": [
      "Epoch 1/100\n",
      "100/100 [==============================] - 56s 494ms/step - loss: 1.3761 - acc: 0.4242 - val_loss: 1.2093 - val_acc: 0.5337\n",
      "Epoch 2/100\n",
      "100/100 [==============================] - 49s 491ms/step - loss: 1.0914 - acc: 0.5537 - val_loss: 0.9126 - val_acc: 0.6270\n",
      "Epoch 3/100\n",
      "100/100 [==============================] - 49s 487ms/step - loss: 0.9976 - acc: 0.5961 - val_loss: 0.8968 - val_acc: 0.6437\n",
      "Epoch 4/100\n",
      "100/100 [==============================] - 49s 494ms/step - loss: 0.9272 - acc: 0.6424 - val_loss: 0.8514 - val_acc: 0.6823\n",
      "Epoch 5/100\n",
      "100/100 [==============================] - 50s 494ms/step - loss: 0.8302 - acc: 0.6873 - val_loss: 0.6542 - val_acc: 0.7593\n",
      "Epoch 6/100\n",
      "100/100 [==============================] - 49s 493ms/step - loss: 0.7731 - acc: 0.7130 - val_loss: 0.5751 - val_acc: 0.7957\n",
      "Epoch 7/100\n",
      "100/100 [==============================] - 49s 484ms/step - loss: 0.7247 - acc: 0.7350 - val_loss: 0.6178 - val_acc: 0.7760\n",
      "Epoch 8/100\n",
      "100/100 [==============================] - 49s 492ms/step - loss: 0.6676 - acc: 0.7599 - val_loss: 0.5490 - val_acc: 0.7990\n",
      "Epoch 9/100\n",
      "100/100 [==============================] - 49s 484ms/step - loss: 0.6170 - acc: 0.7812 - val_loss: 0.5564 - val_acc: 0.8037\n",
      "Epoch 10/100\n",
      "100/100 [==============================] - 49s 490ms/step - loss: 0.6025 - acc: 0.7825 - val_loss: 0.4996 - val_acc: 0.8153\n",
      "Epoch 11/100\n",
      "100/100 [==============================] - 50s 495ms/step - loss: 0.6002 - acc: 0.7837 - val_loss: 0.4864 - val_acc: 0.8280\n",
      "Epoch 12/100\n",
      "100/100 [==============================] - 50s 494ms/step - loss: 0.5475 - acc: 0.8051 - val_loss: 0.4631 - val_acc: 0.8323\n",
      "Epoch 13/100\n",
      "100/100 [==============================] - 49s 491ms/step - loss: 0.5286 - acc: 0.8088 - val_loss: 0.4589 - val_acc: 0.8427\n",
      "Epoch 14/100\n",
      "100/100 [==============================] - 50s 495ms/step - loss: 0.5150 - acc: 0.8164 - val_loss: 0.4666 - val_acc: 0.8290\n",
      "Epoch 15/100\n",
      "100/100 [==============================] - 49s 493ms/step - loss: 0.5004 - acc: 0.8212 - val_loss: 0.4585 - val_acc: 0.8353\n",
      "Epoch 16/100\n",
      "100/100 [==============================] - 50s 494ms/step - loss: 0.5037 - acc: 0.8214 - val_loss: 0.3976 - val_acc: 0.8590\n",
      "Epoch 17/100\n",
      "100/100 [==============================] - 49s 487ms/step - loss: 0.4609 - acc: 0.8338 - val_loss: 0.4223 - val_acc: 0.8547\n",
      "Epoch 18/100\n",
      "100/100 [==============================] - 49s 485ms/step - loss: 0.4620 - acc: 0.8342 - val_loss: 0.4009 - val_acc: 0.8530\n",
      "Epoch 19/100\n",
      "100/100 [==============================] - 49s 493ms/step - loss: 0.4501 - acc: 0.8391 - val_loss: 0.3897 - val_acc: 0.8580\n",
      "Epoch 20/100\n",
      "100/100 [==============================] - 49s 490ms/step - loss: 0.4373 - acc: 0.8415 - val_loss: 0.4268 - val_acc: 0.8527\n",
      "Epoch 21/100\n",
      "100/100 [==============================] - 50s 495ms/step - loss: 0.4372 - acc: 0.8462 - val_loss: 0.3545 - val_acc: 0.8747\n",
      "Epoch 22/100\n",
      "100/100 [==============================] - 49s 485ms/step - loss: 0.4176 - acc: 0.8512 - val_loss: 0.3615 - val_acc: 0.8727\n",
      "Epoch 23/100\n",
      "100/100 [==============================] - 48s 483ms/step - loss: 0.4126 - acc: 0.8547 - val_loss: 0.3620 - val_acc: 0.8713\n",
      "Epoch 24/100\n",
      "100/100 [==============================] - 49s 489ms/step - loss: 0.3992 - acc: 0.8589 - val_loss: 0.4085 - val_acc: 0.8537\n",
      "Epoch 25/100\n",
      "100/100 [==============================] - 49s 490ms/step - loss: 0.3914 - acc: 0.8606 - val_loss: 0.3508 - val_acc: 0.8753\n",
      "Epoch 26/100\n",
      "100/100 [==============================] - 49s 489ms/step - loss: 0.3854 - acc: 0.8598 - val_loss: 0.4156 - val_acc: 0.8510\n",
      "Epoch 27/100\n",
      "100/100 [==============================] - 49s 490ms/step - loss: 0.3754 - acc: 0.8682 - val_loss: 0.4030 - val_acc: 0.8680\n",
      "Epoch 28/100\n",
      "100/100 [==============================] - 49s 486ms/step - loss: 0.3737 - acc: 0.8661 - val_loss: 0.4502 - val_acc: 0.8373\n",
      "Epoch 29/100\n",
      "100/100 [==============================] - 49s 491ms/step - loss: 0.3700 - acc: 0.8700 - val_loss: 0.3891 - val_acc: 0.8580\n",
      "Epoch 30/100\n",
      "100/100 [==============================] - 48s 484ms/step - loss: 0.3647 - acc: 0.8674 - val_loss: 0.3876 - val_acc: 0.8663\n"
     ]
    },
    {
     "data": {
      "text/plain": [
       "<keras.callbacks.History at 0x185975afa60>"
      ]
     },
     "execution_count": 7,
     "metadata": {},
     "output_type": "execute_result"
    }
   ],
   "source": [
    "tboard = TensorBoard(log_dir='./logs', write_images=True, )\n",
    "stopper = EarlyStopping(patience=5)\n",
    "checkpts = ModelCheckpoint(filepath='./checkpoints/model-1/model-1', save_best_only=True, save_weights_only=True)\n",
    "\n",
    "\n",
    "\n",
    "model.fit(\n",
    "        train_generator,\n",
    "        steps_per_epoch=100,\n",
    "        epochs = 100,\n",
    "        validation_data = val_generator,\n",
    "        validation_steps = 100,  # this parameter is very important because our val data is a generator: if not specified, will loop forever!\n",
    "        callbacks = [tboard, stopper, checkpts]\n",
    ")"
   ]
  },
  {
   "cell_type": "code",
   "execution_count": null,
   "id": "2d04a3da-0aad-4b70-bdc6-f0bb532a9983",
   "metadata": {},
   "outputs": [],
   "source": [
    "model.save('../models/model-2')"
   ]
  },
  {
   "cell_type": "code",
   "execution_count": null,
   "id": "a2098dcd-49d6-4e17-b057-e174d77d609b",
   "metadata": {},
   "outputs": [],
   "source": []
  }
 ],
 "metadata": {
  "kernelspec": {
   "display_name": "Python 3 (ipykernel)",
   "language": "python",
   "name": "python3"
  },
  "language_info": {
   "codemirror_mode": {
    "name": "ipython",
    "version": 3
   },
   "file_extension": ".py",
   "mimetype": "text/x-python",
   "name": "python",
   "nbconvert_exporter": "python",
   "pygments_lexer": "ipython3",
   "version": "3.9.12"
  }
 },
 "nbformat": 4,
 "nbformat_minor": 5
}
