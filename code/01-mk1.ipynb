{
 "cells": [
  {
   "cell_type": "code",
   "execution_count": 1,
   "id": "cb581256-a072-4c9e-9518-a978897da605",
   "metadata": {},
   "outputs": [],
   "source": [
    "import os\n",
    "import numpy as np\n",
    "import pandas as pd\n",
    "\n",
    "\n",
    "import tensorflow as tf\n",
    "import keras\n",
    "from keras.models import Sequential\n",
    "from keras.layers import Conv2D, MaxPooling2D, Dense, Flatten\n",
    "from keras.preprocessing.image import ImageDataGenerator\n",
    "from keras.callbacks import TensorBoard, EarlyStopping, ModelCheckpoint"
   ]
  },
  {
   "cell_type": "code",
   "execution_count": 5,
   "id": "ab6f711c-6595-4fc2-9c2f-0e1da7f200e8",
   "metadata": {},
   "outputs": [],
   "source": [
    "train_dir = '../data/seg_train/seg_train'\n",
    "test_dir = '../data/seg_test/seg_test'\n",
    "pred_dir = '../data/seg_pred/seg_pred'\n",
    "\n",
    "train_datagen = ImageDataGenerator(rescale=1./255  )\n",
    "test_datagen = ImageDataGenerator(rescale=1./255)"
   ]
  },
  {
   "cell_type": "code",
   "execution_count": 6,
   "id": "04c7612d-11be-4b7e-80dd-e753a91c5ad4",
   "metadata": {},
   "outputs": [
    {
     "name": "stdout",
     "output_type": "stream",
     "text": [
      "Found 14034 images belonging to 6 classes.\n"
     ]
    }
   ],
   "source": [
    "train_generator = train_datagen.flow_from_directory(\n",
    "                        train_dir,\n",
    "                        target_size=(150,150),\n",
    "                        batch_size = 140,\n",
    "                        class_mode='categorical'\n",
    "                    )"
   ]
  },
  {
   "cell_type": "code",
   "execution_count": null,
   "id": "055de035-3ac2-410d-b9d5-391b1b23b455",
   "metadata": {},
   "outputs": [
    {
     "name": "stdout",
     "output_type": "stream",
     "text": [
      "Found 3000 images belonging to 6 classes.\n"
     ]
    }
   ],
   "source": [
    "val_generator = test_datagen.flow_from_directory(\n",
    "                    test_dir,\n",
    "                    target_size = (150,150),\n",
    "                    batch_size = 30,    \n",
    "                    class_mode = 'categorical'\n",
    "                )"
   ]
  },
  {
   "cell_type": "code",
   "execution_count": null,
   "id": "fb4dc863-3814-48d2-95d2-8e0c0c400e09",
   "metadata": {},
   "outputs": [
    {
     "name": "stdout",
     "output_type": "stream",
     "text": [
      "data batch shape: (140, 150, 150, 3)\n",
      "labels batch shape: (140, 6)\n"
     ]
    }
   ],
   "source": [
    "for data_batch, labels_batch in train_generator:\n",
    "    print('data batch shape:', data_batch.shape)\n",
    "    print('labels batch shape:', labels_batch.shape)\n",
    "    break\n",
    "    "
   ]
  },
  {
   "cell_type": "code",
   "execution_count": 9,
   "id": "cfff7342-6e72-42d4-b166-3ada3bd01cbd",
   "metadata": {},
   "outputs": [],
   "source": [
    "# build a basic Conv Net.\n",
    "\n",
    "## instantiate basic Sequential model\n",
    "model = keras.Sequential()\n",
    "\n",
    "# add 1st Conv layer (w/ Max Pooling)\n",
    "model.add( Conv2D(filters = 64, kernel_size=(3,3), activation='relu', padding='same', input_shape=(150,150,3)) )\n",
    "model.add( Conv2D(filters = 64, kernel_size=(3,3), activation='relu', padding='same') )\n",
    "model.add( MaxPooling2D( pool_size=(2,2) ) )\n",
    "\n",
    "# add 2nd Conv layer (w/ Max Pooling)\n",
    "model.add( Conv2D(filters = 128, kernel_size=(3,3), activation='relu', padding='same') )\n",
    "model.add( Conv2D(filters = 128, kernel_size=(3,3), activation='relu') )\n",
    "model.add( MaxPooling2D( pool_size=(2,2) ))\n",
    "\n",
    "# add 3rd Conv layer (w/Max Pooling)\n",
    "model.add( Conv2D(filters = 256, kernel_size=(3,3), activation='relu', padding='same') )\n",
    "model.add( Conv2D(filters = 256, kernel_size=(3,3), activation='relu') )\n",
    "model.add( MaxPooling2D( pool_size=(2,2) ))\n",
    "\n",
    "# add 4th Conv layer (w/ Max Pooling)\n",
    "model.add( Conv2D(filters = 512, kernel_size=(3,3), activation='relu', padding='same') )\n",
    "model.add( Conv2D(filters = 512, kernel_size=(3,3), activation='relu') )\n",
    "model.add( MaxPooling2D( pool_size=(2,2) ))\n",
    "\n",
    "# flatten, hidden, and output layers\n",
    "model.add( Flatten())\n",
    "model.add( Dense(units=1024, activation='relu') )\n",
    "model.add( Dense(units=512, activation='relu') )\n",
    "model.add( Dense(units=6, activation='softmax') )\n",
    "\n",
    "model.compile(\n",
    "        loss = 'categorical_crossentropy',\n",
    "        optimizer = tf.keras.optimizers.Adam(learning_rate=0.0005),\n",
    "        metrics = ['acc']\n",
    ")"
   ]
  },
  {
   "cell_type": "code",
   "execution_count": 10,
   "id": "edf6cee8-14fd-4a51-82db-25f11699a2ec",
   "metadata": {},
   "outputs": [
    {
     "name": "stdout",
     "output_type": "stream",
     "text": [
      "Model: \"sequential\"\n",
      "_________________________________________________________________\n",
      " Layer (type)                Output Shape              Param #   \n",
      "=================================================================\n",
      " conv2d (Conv2D)             (None, 150, 150, 64)      1792      \n",
      "                                                                 \n",
      " conv2d_1 (Conv2D)           (None, 150, 150, 64)      36928     \n",
      "                                                                 \n",
      " max_pooling2d (MaxPooling2D  (None, 75, 75, 64)       0         \n",
      " )                                                               \n",
      "                                                                 \n",
      " conv2d_2 (Conv2D)           (None, 75, 75, 128)       73856     \n",
      "                                                                 \n",
      " conv2d_3 (Conv2D)           (None, 73, 73, 128)       147584    \n",
      "                                                                 \n",
      " max_pooling2d_1 (MaxPooling  (None, 36, 36, 128)      0         \n",
      " 2D)                                                             \n",
      "                                                                 \n",
      " conv2d_4 (Conv2D)           (None, 36, 36, 256)       295168    \n",
      "                                                                 \n",
      " conv2d_5 (Conv2D)           (None, 34, 34, 256)       590080    \n",
      "                                                                 \n",
      " max_pooling2d_2 (MaxPooling  (None, 17, 17, 256)      0         \n",
      " 2D)                                                             \n",
      "                                                                 \n",
      " conv2d_6 (Conv2D)           (None, 17, 17, 512)       1180160   \n",
      "                                                                 \n",
      " conv2d_7 (Conv2D)           (None, 15, 15, 512)       2359808   \n",
      "                                                                 \n",
      " max_pooling2d_3 (MaxPooling  (None, 7, 7, 512)        0         \n",
      " 2D)                                                             \n",
      "                                                                 \n",
      " flatten (Flatten)           (None, 25088)             0         \n",
      "                                                                 \n",
      " dense (Dense)               (None, 1024)              25691136  \n",
      "                                                                 \n",
      " dense_1 (Dense)             (None, 512)               524800    \n",
      "                                                                 \n",
      " dense_2 (Dense)             (None, 6)                 3078      \n",
      "                                                                 \n",
      "=================================================================\n",
      "Total params: 30,904,390\n",
      "Trainable params: 30,904,390\n",
      "Non-trainable params: 0\n",
      "_________________________________________________________________\n"
     ]
    }
   ],
   "source": [
    "# take a look at the architecture\n",
    "model.summary()"
   ]
  },
  {
   "cell_type": "code",
   "execution_count": 12,
   "id": "b8b7055b-ea55-4ff9-9b8a-f2be50f90d49",
   "metadata": {},
   "outputs": [
    {
     "name": "stdout",
     "output_type": "stream",
     "text": [
      "Epoch 1/25\n",
      "100/100 [==============================] - 19s 188ms/step - loss: 0.4577 - acc: 0.8318 - val_loss: 0.5467 - val_acc: 0.7937\n",
      "Epoch 2/25\n",
      "100/100 [==============================] - 19s 190ms/step - loss: 0.4184 - acc: 0.8494 - val_loss: 0.4284 - val_acc: 0.8507\n",
      "Epoch 3/25\n",
      "100/100 [==============================] - 18s 184ms/step - loss: 0.3683 - acc: 0.8655 - val_loss: 0.4392 - val_acc: 0.8430\n",
      "Epoch 4/25\n",
      "100/100 [==============================] - 18s 179ms/step - loss: 0.3202 - acc: 0.8869 - val_loss: 0.4816 - val_acc: 0.8313\n",
      "Epoch 5/25\n",
      "100/100 [==============================] - 18s 180ms/step - loss: 0.2971 - acc: 0.8951 - val_loss: 0.4572 - val_acc: 0.8470\n",
      "Epoch 6/25\n",
      "100/100 [==============================] - 18s 180ms/step - loss: 0.2356 - acc: 0.9164 - val_loss: 0.4769 - val_acc: 0.8503\n",
      "Epoch 7/25\n",
      "100/100 [==============================] - 18s 180ms/step - loss: 0.1908 - acc: 0.9303 - val_loss: 0.5061 - val_acc: 0.8580\n",
      "Epoch 8/25\n",
      "100/100 [==============================] - 18s 180ms/step - loss: 0.1582 - acc: 0.9444 - val_loss: 0.6160 - val_acc: 0.8247\n",
      "Epoch 9/25\n",
      "100/100 [==============================] - 18s 182ms/step - loss: 0.1407 - acc: 0.9504 - val_loss: 0.5726 - val_acc: 0.8320\n",
      "Epoch 10/25\n",
      "100/100 [==============================] - 18s 182ms/step - loss: 0.1367 - acc: 0.9509 - val_loss: 0.6239 - val_acc: 0.8370\n",
      "Epoch 11/25\n",
      "100/100 [==============================] - 18s 181ms/step - loss: 0.1063 - acc: 0.9624 - val_loss: 0.7387 - val_acc: 0.8300\n",
      "Epoch 12/25\n",
      "100/100 [==============================] - 18s 180ms/step - loss: 0.0700 - acc: 0.9755 - val_loss: 0.8295 - val_acc: 0.8260\n"
     ]
    },
    {
     "data": {
      "text/plain": [
       "<keras.callbacks.History at 0x10f5a9ba880>"
      ]
     },
     "execution_count": 12,
     "metadata": {},
     "output_type": "execute_result"
    }
   ],
   "source": [
    "tboard = TensorBoard(log_dir='./logs', write_images=True, )\n",
    "stopper = EarlyStopping(patience=10)\n",
    "checkpts = ModelCheckpoint(filepath='./checkpoints/model-1/model-1', save_best_only=True, save_weights_only=True)\n",
    "\n",
    "\n",
    "\n",
    "model.fit(\n",
    "        train_generator,\n",
    "        steps_per_epoch=100,\n",
    "        epochs = 25,\n",
    "        validation_data = val_generator,\n",
    "        validation_steps = 100,  # this parameter is very important because our val data is a generator: if not specified will repeat infinitely!\n",
    "        callbacks = [tboard, stopper, checkpts]\n",
    ")"
   ]
  },
  {
   "cell_type": "code",
   "execution_count": null,
   "id": "2d04a3da-0aad-4b70-bdc6-f0bb532a9983",
   "metadata": {},
   "outputs": [],
   "source": []
  },
  {
   "cell_type": "code",
   "execution_count": null,
   "id": "a2098dcd-49d6-4e17-b057-e174d77d609b",
   "metadata": {},
   "outputs": [],
   "source": []
  }
 ],
 "metadata": {
  "kernelspec": {
   "display_name": "Python 3 (ipykernel)",
   "language": "python",
   "name": "python3"
  },
  "language_info": {
   "codemirror_mode": {
    "name": "ipython",
    "version": 3
   },
   "file_extension": ".py",
   "mimetype": "text/x-python",
   "name": "python",
   "nbconvert_exporter": "python",
   "pygments_lexer": "ipython3",
   "version": "3.9.12"
  }
 },
 "nbformat": 4,
 "nbformat_minor": 5
}
