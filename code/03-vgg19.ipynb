{
 "cells": [
  {
   "cell_type": "code",
   "execution_count": 14,
   "id": "cb581256-a072-4c9e-9518-a978897da605",
   "metadata": {},
   "outputs": [],
   "source": [
    "import os\n",
    "import numpy as np\n",
    "import pandas as pd\n",
    "\n",
    "import matplotlib.pyplot as plt\n",
    "\n",
    "import tensorflow as tf\n",
    "import keras\n",
    "from keras import layers\n",
    "from keras.preprocessing.image import ImageDataGenerator\n",
    "from keras.callbacks import EarlyStopping, ModelCheckpoint\n",
    "\n",
    "from tensorflow.keras.applications import VGG19\n",
    "\n"
   ]
  },
  {
   "cell_type": "code",
   "execution_count": 2,
   "id": "ab6f711c-6595-4fc2-9c2f-0e1da7f200e8",
   "metadata": {},
   "outputs": [],
   "source": [
    "train_dir = '../data/seg_train/seg_train'\n",
    "test_dir = '../data/seg_test/seg_test'\n",
    "pred_dir = '../data/seg_pred/seg_pred'\n",
    "\n",
    "# implement data augmentation\n",
    "train_datagen = ImageDataGenerator(\n",
    "                    rescale=1./255,\n",
    "                    rotation_range=40,\n",
    "                    width_shift_range=0.2,\n",
    "                    height_shift_range=0.2,\n",
    "                    shear_range = 0.2,\n",
    "                    zoom_range = 0.2,\n",
    "                    horizontal_flip=True\n",
    "                )\n",
    "\n",
    "test_datagen = ImageDataGenerator(rescale=1./255)"
   ]
  },
  {
   "cell_type": "code",
   "execution_count": 3,
   "id": "04c7612d-11be-4b7e-80dd-e753a91c5ad4",
   "metadata": {},
   "outputs": [
    {
     "name": "stdout",
     "output_type": "stream",
     "text": [
      "Found 14034 images belonging to 6 classes.\n"
     ]
    }
   ],
   "source": [
    "train_generator = train_datagen.flow_from_directory(\n",
    "                        train_dir,\n",
    "                        target_size=(150,150),\n",
    "                        batch_size = 140,\n",
    "                        class_mode='categorical'\n",
    "                    )"
   ]
  },
  {
   "cell_type": "code",
   "execution_count": 4,
   "id": "055de035-3ac2-410d-b9d5-391b1b23b455",
   "metadata": {},
   "outputs": [
    {
     "name": "stdout",
     "output_type": "stream",
     "text": [
      "Found 3000 images belonging to 6 classes.\n"
     ]
    }
   ],
   "source": [
    "val_generator = test_datagen.flow_from_directory(\n",
    "                    test_dir,\n",
    "                    target_size = (150,150),\n",
    "                    batch_size = 30,    \n",
    "                    class_mode = 'categorical'\n",
    "                )"
   ]
  },
  {
   "cell_type": "code",
   "execution_count": 5,
   "id": "a2098dcd-49d6-4e17-b057-e174d77d609b",
   "metadata": {},
   "outputs": [],
   "source": [
    "# instantiate VGG19 model\n",
    "not_my_model = VGG19(\n",
    "                    include_top=False,  # VGG19's top layer was built to classify 1000 classes; we only need 6 so we'll have to build our own top layer\n",
    "                    input_shape=(150,150,3)\n",
    "                )"
   ]
  },
  {
   "cell_type": "code",
   "execution_count": 6,
   "id": "37deaf05-ce71-4fea-9abd-57cf1ef469c8",
   "metadata": {},
   "outputs": [
    {
     "name": "stdout",
     "output_type": "stream",
     "text": [
      "Model: \"vgg19\"\n",
      "_________________________________________________________________\n",
      " Layer (type)                Output Shape              Param #   \n",
      "=================================================================\n",
      " input_1 (InputLayer)        [(None, 150, 150, 3)]     0         \n",
      "                                                                 \n",
      " block1_conv1 (Conv2D)       (None, 150, 150, 64)      1792      \n",
      "                                                                 \n",
      " block1_conv2 (Conv2D)       (None, 150, 150, 64)      36928     \n",
      "                                                                 \n",
      " block1_pool (MaxPooling2D)  (None, 75, 75, 64)        0         \n",
      "                                                                 \n",
      " block2_conv1 (Conv2D)       (None, 75, 75, 128)       73856     \n",
      "                                                                 \n",
      " block2_conv2 (Conv2D)       (None, 75, 75, 128)       147584    \n",
      "                                                                 \n",
      " block2_pool (MaxPooling2D)  (None, 37, 37, 128)       0         \n",
      "                                                                 \n",
      " block3_conv1 (Conv2D)       (None, 37, 37, 256)       295168    \n",
      "                                                                 \n",
      " block3_conv2 (Conv2D)       (None, 37, 37, 256)       590080    \n",
      "                                                                 \n",
      " block3_conv3 (Conv2D)       (None, 37, 37, 256)       590080    \n",
      "                                                                 \n",
      " block3_conv4 (Conv2D)       (None, 37, 37, 256)       590080    \n",
      "                                                                 \n",
      " block3_pool (MaxPooling2D)  (None, 18, 18, 256)       0         \n",
      "                                                                 \n",
      " block4_conv1 (Conv2D)       (None, 18, 18, 512)       1180160   \n",
      "                                                                 \n",
      " block4_conv2 (Conv2D)       (None, 18, 18, 512)       2359808   \n",
      "                                                                 \n",
      " block4_conv3 (Conv2D)       (None, 18, 18, 512)       2359808   \n",
      "                                                                 \n",
      " block4_conv4 (Conv2D)       (None, 18, 18, 512)       2359808   \n",
      "                                                                 \n",
      " block4_pool (MaxPooling2D)  (None, 9, 9, 512)         0         \n",
      "                                                                 \n",
      " block5_conv1 (Conv2D)       (None, 9, 9, 512)         2359808   \n",
      "                                                                 \n",
      " block5_conv2 (Conv2D)       (None, 9, 9, 512)         2359808   \n",
      "                                                                 \n",
      " block5_conv3 (Conv2D)       (None, 9, 9, 512)         2359808   \n",
      "                                                                 \n",
      " block5_conv4 (Conv2D)       (None, 9, 9, 512)         2359808   \n",
      "                                                                 \n",
      " block5_pool (MaxPooling2D)  (None, 4, 4, 512)         0         \n",
      "                                                                 \n",
      "=================================================================\n",
      "Total params: 20,024,384\n",
      "Trainable params: 20,024,384\n",
      "Non-trainable params: 0\n",
      "_________________________________________________________________\n"
     ]
    }
   ],
   "source": [
    "not_my_model.summary()"
   ]
  },
  {
   "cell_type": "code",
   "execution_count": 7,
   "id": "460a0d1e-9943-45cd-b225-82457ed92297",
   "metadata": {},
   "outputs": [],
   "source": [
    "# Since we want to compose VGG19 with a custom top layer\n",
    "# We'll need to feed VGG19's output into a new model.\n",
    "# Thankfully Keras' Functional API makes this quite painless.\n",
    "\n",
    "# create input layer\n",
    "input_layer = layers.Input(shape=(150, 150, 3))\n",
    "\n",
    "# call VGG19 on the input layer\n",
    "x = not_my_model(input_layer)\n",
    "\n",
    "# flatten\n",
    "x = layers.Flatten()(x)\n",
    "\n",
    "# feed result into Dense layers\n",
    "x = layers.Dense(units = 512, activation='relu')(x)\n",
    "x = layers.Dense(units = 64, activation='relu')(x)\n",
    "\n",
    "# feed final result into output layer\n",
    "output_layer = layers.Dense(units=6, activation='softmax')(x)\n",
    "\n",
    "# create model by specifying input -> output graph\n",
    "my_model = keras.models.Model(inputs = input_layer, outputs = output_layer, name='vgg19-redux')"
   ]
  },
  {
   "cell_type": "code",
   "execution_count": 8,
   "id": "f4b5403e-7b60-4603-bf21-004803f05f8e",
   "metadata": {},
   "outputs": [
    {
     "name": "stdout",
     "output_type": "stream",
     "text": [
      "Model: \"vgg19-redux\"\n",
      "_________________________________________________________________\n",
      " Layer (type)                Output Shape              Param #   \n",
      "=================================================================\n",
      " input_2 (InputLayer)        [(None, 150, 150, 3)]     0         \n",
      "                                                                 \n",
      " vgg19 (Functional)          (None, 4, 4, 512)         20024384  \n",
      "                                                                 \n",
      " flatten (Flatten)           (None, 8192)              0         \n",
      "                                                                 \n",
      " dense (Dense)               (None, 512)               4194816   \n",
      "                                                                 \n",
      " dense_1 (Dense)             (None, 64)                32832     \n",
      "                                                                 \n",
      " dense_2 (Dense)             (None, 6)                 390       \n",
      "                                                                 \n",
      "=================================================================\n",
      "Total params: 24,252,422\n",
      "Trainable params: 24,252,422\n",
      "Non-trainable params: 0\n",
      "_________________________________________________________________\n"
     ]
    }
   ],
   "source": [
    "my_model.summary()"
   ]
  },
  {
   "cell_type": "code",
   "execution_count": 9,
   "id": "5fcb234c-78e3-45f2-a6f3-37b77dfe5258",
   "metadata": {},
   "outputs": [
    {
     "name": "stdout",
     "output_type": "stream",
     "text": [
      "Model: \"vgg19-redux\"\n",
      "_________________________________________________________________\n",
      " Layer (type)                Output Shape              Param #   \n",
      "=================================================================\n",
      " input_2 (InputLayer)        [(None, 150, 150, 3)]     0         \n",
      "                                                                 \n",
      " vgg19 (Functional)          (None, 4, 4, 512)         20024384  \n",
      "                                                                 \n",
      " flatten (Flatten)           (None, 8192)              0         \n",
      "                                                                 \n",
      " dense (Dense)               (None, 512)               4194816   \n",
      "                                                                 \n",
      " dense_1 (Dense)             (None, 64)                32832     \n",
      "                                                                 \n",
      " dense_2 (Dense)             (None, 6)                 390       \n",
      "                                                                 \n",
      "=================================================================\n",
      "Total params: 24,252,422\n",
      "Trainable params: 4,228,038\n",
      "Non-trainable params: 20,024,384\n",
      "_________________________________________________________________\n"
     ]
    }
   ],
   "source": [
    "# Since VGG19 comes pretrained, we don't want to mess with its weights during training\n",
    "# We can \"freeze\" the VGG19 layer by setting its trainable attribute to false\n",
    "not_my_model.trainable = False\n",
    "\n",
    "my_model.summary()"
   ]
  },
  {
   "cell_type": "code",
   "execution_count": 10,
   "id": "fc297e41-57ca-4ce0-bd16-d434ec330c8b",
   "metadata": {},
   "outputs": [
    {
     "name": "stdout",
     "output_type": "stream",
     "text": [
      "Epoch 1/100\n",
      "100/100 [==============================] - 79s 715ms/step - loss: 0.7453 - acc: 0.7115 - val_loss: 0.4736 - val_acc: 0.8247\n",
      "Epoch 2/100\n",
      "100/100 [==============================] - 49s 492ms/step - loss: 0.5422 - acc: 0.7952 - val_loss: 0.4136 - val_acc: 0.8510\n",
      "Epoch 3/100\n",
      "100/100 [==============================] - 49s 490ms/step - loss: 0.4946 - acc: 0.8201 - val_loss: 0.4107 - val_acc: 0.8523\n",
      "Epoch 4/100\n",
      "100/100 [==============================] - 49s 492ms/step - loss: 0.4892 - acc: 0.8180 - val_loss: 0.3831 - val_acc: 0.8553\n",
      "Epoch 5/100\n",
      "100/100 [==============================] - 50s 498ms/step - loss: 0.4699 - acc: 0.8232 - val_loss: 0.3859 - val_acc: 0.8543\n",
      "Epoch 6/100\n",
      "100/100 [==============================] - 49s 490ms/step - loss: 0.4549 - acc: 0.8300 - val_loss: 0.3884 - val_acc: 0.8477\n",
      "Epoch 7/100\n",
      "100/100 [==============================] - 50s 495ms/step - loss: 0.4548 - acc: 0.8294 - val_loss: 0.3758 - val_acc: 0.8627\n",
      "Epoch 8/100\n",
      "100/100 [==============================] - 49s 492ms/step - loss: 0.4308 - acc: 0.8407 - val_loss: 0.3973 - val_acc: 0.8493\n",
      "Epoch 9/100\n",
      "100/100 [==============================] - 49s 491ms/step - loss: 0.4190 - acc: 0.8410 - val_loss: 0.3616 - val_acc: 0.8667\n",
      "Epoch 10/100\n",
      "100/100 [==============================] - 50s 495ms/step - loss: 0.4240 - acc: 0.8365 - val_loss: 0.3981 - val_acc: 0.8463\n",
      "Epoch 11/100\n",
      "100/100 [==============================] - 49s 492ms/step - loss: 0.4289 - acc: 0.8394 - val_loss: 0.3844 - val_acc: 0.8570\n",
      "Epoch 12/100\n",
      "100/100 [==============================] - 49s 491ms/step - loss: 0.4130 - acc: 0.8476 - val_loss: 0.3657 - val_acc: 0.8593\n",
      "Epoch 13/100\n",
      "100/100 [==============================] - 49s 493ms/step - loss: 0.4039 - acc: 0.8476 - val_loss: 0.3563 - val_acc: 0.8657\n",
      "Epoch 14/100\n",
      "100/100 [==============================] - 49s 490ms/step - loss: 0.4020 - acc: 0.8473 - val_loss: 0.3601 - val_acc: 0.8653\n",
      "Epoch 15/100\n",
      "100/100 [==============================] - 50s 495ms/step - loss: 0.3961 - acc: 0.8537 - val_loss: 0.3993 - val_acc: 0.8507\n",
      "Epoch 16/100\n",
      "100/100 [==============================] - 49s 492ms/step - loss: 0.3854 - acc: 0.8535 - val_loss: 0.3666 - val_acc: 0.8647\n",
      "Epoch 17/100\n",
      "100/100 [==============================] - 49s 492ms/step - loss: 0.3840 - acc: 0.8594 - val_loss: 0.3498 - val_acc: 0.8630\n",
      "Epoch 18/100\n",
      "100/100 [==============================] - 49s 489ms/step - loss: 0.3815 - acc: 0.8563 - val_loss: 0.3681 - val_acc: 0.8630\n",
      "Epoch 19/100\n",
      "100/100 [==============================] - 50s 497ms/step - loss: 0.3742 - acc: 0.8601 - val_loss: 0.3427 - val_acc: 0.8703\n",
      "Epoch 20/100\n",
      "100/100 [==============================] - 49s 494ms/step - loss: 0.3738 - acc: 0.8601 - val_loss: 0.3429 - val_acc: 0.8783\n",
      "Epoch 21/100\n",
      "100/100 [==============================] - 49s 493ms/step - loss: 0.3722 - acc: 0.8578 - val_loss: 0.3386 - val_acc: 0.8707\n",
      "Epoch 22/100\n",
      "100/100 [==============================] - 49s 492ms/step - loss: 0.3665 - acc: 0.8600 - val_loss: 0.3463 - val_acc: 0.8730\n",
      "Epoch 23/100\n",
      "100/100 [==============================] - 50s 496ms/step - loss: 0.3633 - acc: 0.8622 - val_loss: 0.3487 - val_acc: 0.8653\n",
      "Epoch 24/100\n",
      "100/100 [==============================] - 49s 493ms/step - loss: 0.3690 - acc: 0.8633 - val_loss: 0.3296 - val_acc: 0.8787\n",
      "Epoch 25/100\n",
      "100/100 [==============================] - 49s 493ms/step - loss: 0.3531 - acc: 0.8678 - val_loss: 0.3297 - val_acc: 0.8797\n",
      "Epoch 26/100\n",
      "100/100 [==============================] - 49s 490ms/step - loss: 0.3627 - acc: 0.8613 - val_loss: 0.3374 - val_acc: 0.8757\n",
      "Epoch 27/100\n",
      "100/100 [==============================] - 49s 489ms/step - loss: 0.3585 - acc: 0.8653 - val_loss: 0.3304 - val_acc: 0.8750\n",
      "Epoch 28/100\n",
      "100/100 [==============================] - 49s 491ms/step - loss: 0.3550 - acc: 0.8666 - val_loss: 0.3449 - val_acc: 0.8740\n",
      "Epoch 29/100\n",
      "100/100 [==============================] - 49s 491ms/step - loss: 0.3487 - acc: 0.8685 - val_loss: 0.3425 - val_acc: 0.8750\n",
      "Epoch 30/100\n",
      "100/100 [==============================] - 49s 493ms/step - loss: 0.3379 - acc: 0.8730 - val_loss: 0.3424 - val_acc: 0.8753\n",
      "Epoch 31/100\n",
      "100/100 [==============================] - 49s 491ms/step - loss: 0.3449 - acc: 0.8679 - val_loss: 0.3410 - val_acc: 0.8727\n",
      "Epoch 32/100\n",
      "100/100 [==============================] - 49s 492ms/step - loss: 0.3405 - acc: 0.8718 - val_loss: 0.3301 - val_acc: 0.8787\n",
      "Epoch 33/100\n",
      "100/100 [==============================] - 49s 489ms/step - loss: 0.3358 - acc: 0.8752 - val_loss: 0.3360 - val_acc: 0.8790\n",
      "Epoch 34/100\n",
      "100/100 [==============================] - 49s 487ms/step - loss: 0.3380 - acc: 0.8743 - val_loss: 0.3330 - val_acc: 0.8763\n"
     ]
    }
   ],
   "source": [
    "# we are ready to compile and fit\n",
    "my_model.compile(\n",
    "            loss='categorical_crossentropy',\n",
    "            optimizer=tf.keras.optimizers.Adam(learning_rate=0.001),\n",
    "            metrics=['acc']\n",
    "        )\n",
    "\n",
    "# instantiate callbacks\n",
    "stopper = EarlyStopping(patience=10)\n",
    "checkpts = ModelCheckpoint(filepath = './checkpoints/model-3', save_best_only=True, save_weights_only = True)\n",
    "\n",
    "\n",
    "results = my_model.fit(\n",
    "                train_generator,\n",
    "                steps_per_epoch=100,\n",
    "                epochs = 100,\n",
    "                validation_data = val_generator,\n",
    "                validation_steps = 100,  # this parameter is very important because our val data is a generator: if not specified will repeat infinitely!\n",
    "                callbacks = [stopper, checkpts]\n",
    "        )"
   ]
  },
  {
   "cell_type": "code",
   "execution_count": 11,
   "id": "205f6f20-fc59-4522-a1a9-18b4946f67aa",
   "metadata": {},
   "outputs": [
    {
     "name": "stdout",
     "output_type": "stream",
     "text": [
      "INFO:tensorflow:Assets written to: ../models/model-3/assets\n"
     ]
    }
   ],
   "source": [
    "my_model.save('../models/model-3/')"
   ]
  },
  {
   "cell_type": "code",
   "execution_count": 18,
   "id": "18b279a1-6801-4896-a7e9-5339c96dc90f",
   "metadata": {},
   "outputs": [
    {
     "data": {
      "image/png": "[encoded data removed]",
      "text/plain": [
       "<Figure size 1296x432 with 2 Axes>"
      ]
     },
     "metadata": {
      "needs_background": "light"
     },
     "output_type": "display_data"
    }
   ],
   "source": [
    "history = pd.DataFrame(results.history)\n",
    "\n",
    "fig, ax = plt.subplots(1,2, figsize=(18,6));\n",
    "history.filter(like='loss').plot(ax=ax[0], title='Loss');\n",
    "history.filter(like='acc').plot(ax=ax[1], title='Accuracy');\n",
    "\n",
    "plt.savefig('../assets/training-curves-model-3.png')"
   ]
  },
  {
   "cell_type": "code",
   "execution_count": null,
   "id": "86de9399-e2bb-4de5-92d8-d11856e0bb37",
   "metadata": {},
   "outputs": [],
   "source": []
  }
 ],
 "metadata": {
  "kernelspec": {
   "display_name": "Python 3 (ipykernel)",
   "language": "python",
   "name": "python3"
  },
  "language_info": {
   "codemirror_mode": {
    "name": "ipython",
    "version": 3
   },
   "file_extension": ".py",
   "mimetype": "text/x-python",
   "name": "python",
   "nbconvert_exporter": "python",
   "pygments_lexer": "ipython3",
   "version": "3.9.12"
  }
 },
 "nbformat": 4,
 "nbformat_minor": 5
}
