{
 "cells": [
  {
   "cell_type": "code",
   "execution_count": 9,
   "id": "cb581256-a072-4c9e-9518-a978897da605",
   "metadata": {},
   "outputs": [],
   "source": [
    "import os\n",
    "import numpy as np\n",
    "\n",
    "import tensorflow as tf\n",
    "import keras\n",
    "from keras.models import Sequential\n",
    "from keras.layers import Conv2D, MaxPooling2D, Dense, Flatten\n",
    "from keras.preprocessing.image import ImageDataGenerator\n",
    "from keras.callbacks import TensorBoard, EarlyStopping, ModelCheckpoint"
   ]
  },
  {
   "cell_type": "code",
   "execution_count": 2,
   "id": "ab6f711c-6595-4fc2-9c2f-0e1da7f200e8",
   "metadata": {},
   "outputs": [],
   "source": [
    "train_dir = '../data/seg_train/seg_train'\n",
    "test_dir = '../data/seg_test/seg_test'\n",
    "pred_dir = '../data/seg_pred/seg_pred'\n",
    "\n",
    "train_datagen = ImageDataGenerator(rescale=1./255)\n",
    "test_datagen = ImageDataGenerator(rescale=1./255)"
   ]
  },
  {
   "cell_type": "code",
   "execution_count": 3,
   "id": "04c7612d-11be-4b7e-80dd-e753a91c5ad4",
   "metadata": {},
   "outputs": [
    {
     "name": "stdout",
     "output_type": "stream",
     "text": [
      "Found 14034 images belonging to 6 classes.\n"
     ]
    }
   ],
   "source": [
    "train_generator = train_datagen.flow_from_directory(\n",
    "                        train_dir,\n",
    "                        target_size=(150,150),\n",
    "                        batch_size = 20,\n",
    "                        class_mode='categorical'\n",
    "                    )"
   ]
  },
  {
   "cell_type": "code",
   "execution_count": 4,
   "id": "055de035-3ac2-410d-b9d5-391b1b23b455",
   "metadata": {},
   "outputs": [
    {
     "name": "stdout",
     "output_type": "stream",
     "text": [
      "Found 3000 images belonging to 6 classes.\n"
     ]
    }
   ],
   "source": [
    "val_generator = test_datagen.flow_from_directory(\n",
    "                    test_dir,\n",
    "                    target_size = (150,150),\n",
    "                    batch_size = 20,    \n",
    "                    class_mode = 'categorical'\n",
    "                )"
   ]
  },
  {
   "cell_type": "code",
   "execution_count": 5,
   "id": "fb4dc863-3814-48d2-95d2-8e0c0c400e09",
   "metadata": {},
   "outputs": [
    {
     "name": "stdout",
     "output_type": "stream",
     "text": [
      "data batch shape: (20, 150, 150, 3)\n",
      "labels batch shape: (20, 6)\n"
     ]
    }
   ],
   "source": [
    "for data_batch, labels_batch in train_generator:\n",
    "    print('data batch shape:', data_batch.shape)\n",
    "    print('labels batch shape:', labels_batch.shape)\n",
    "    break\n",
    "    "
   ]
  },
  {
   "cell_type": "code",
   "execution_count": 6,
   "id": "cfff7342-6e72-42d4-b166-3ada3bd01cbd",
   "metadata": {},
   "outputs": [],
   "source": [
    "# build a basic Conv Net.\n",
    "\n",
    "## instantiate basic Sequential model\n",
    "model = keras.Sequential()\n",
    "\n",
    "# add 1st Conv layer (w/ Max Pooling)\n",
    "model.add( Conv2D(filters = 64, kernel_size=(3,3), activation='relu',  input_shape=(150,150,3)) )\n",
    "model.add( MaxPooling2D( pool_size=(2,2) ) )\n",
    "\n",
    "# add 2nd Conv layer (w/ Max Pooling)\n",
    "model.add( Conv2D(filters = 128, kernel_size=(3,3), activation='relu') )\n",
    "model.add( MaxPooling2D( pool_size=(2,2) ))\n",
    "\n",
    "# add 3rd Conv layer (w/Max Pooling)\n",
    "model.add( Conv2D(filters = 128, kernel_size=(3,3), activation='relu') )\n",
    "model.add( MaxPooling2D( pool_size=(2,2) ))\n",
    "\n",
    "# add 4th Conv layer (w/ Max Pooling)\n",
    "model.add( Conv2D(filters = 128, kernel_size=(3,3), activation='relu') )\n",
    "model.add( MaxPooling2D( pool_size=(2,2) ))\n",
    "\n",
    "# flatten, hidden, and output layers\n",
    "model.add( Flatten())\n",
    "model.add( Dense(units=1000, activation='relu') )\n",
    "model.add( Dense(units=6, activation='softmax') )\n",
    "\n",
    "model.compile(\n",
    "        loss = 'categorical_crossentropy',\n",
    "        optimizer = 'adam',\n",
    "        metrics = ['acc']\n",
    ")"
   ]
  },
  {
   "cell_type": "code",
   "execution_count": 8,
   "id": "edf6cee8-14fd-4a51-82db-25f11699a2ec",
   "metadata": {},
   "outputs": [
    {
     "name": "stdout",
     "output_type": "stream",
     "text": [
      "Model: \"sequential\"\n",
      "_________________________________________________________________\n",
      " Layer (type)                Output Shape              Param #   \n",
      "=================================================================\n",
      " conv2d (Conv2D)             (None, 148, 148, 64)      1792      \n",
      "                                                                 \n",
      " max_pooling2d (MaxPooling2D  (None, 74, 74, 64)       0         \n",
      " )                                                               \n",
      "                                                                 \n",
      " conv2d_1 (Conv2D)           (None, 72, 72, 128)       73856     \n",
      "                                                                 \n",
      " max_pooling2d_1 (MaxPooling  (None, 36, 36, 128)      0         \n",
      " 2D)                                                             \n",
      "                                                                 \n",
      " conv2d_2 (Conv2D)           (None, 34, 34, 128)       147584    \n",
      "                                                                 \n",
      " max_pooling2d_2 (MaxPooling  (None, 17, 17, 128)      0         \n",
      " 2D)                                                             \n",
      "                                                                 \n",
      " conv2d_3 (Conv2D)           (None, 15, 15, 128)       147584    \n",
      "                                                                 \n",
      " max_pooling2d_3 (MaxPooling  (None, 7, 7, 128)        0         \n",
      " 2D)                                                             \n",
      "                                                                 \n",
      " flatten (Flatten)           (None, 6272)              0         \n",
      "                                                                 \n",
      " dense (Dense)               (None, 1000)              6273000   \n",
      "                                                                 \n",
      " dense_1 (Dense)             (None, 6)                 6006      \n",
      "                                                                 \n",
      "=================================================================\n",
      "Total params: 6,649,822\n",
      "Trainable params: 6,649,822\n",
      "Non-trainable params: 0\n",
      "_________________________________________________________________\n"
     ]
    }
   ],
   "source": [
    "# take a look at the architecture\n",
    "model.summary()"
   ]
  },
  {
   "cell_type": "code",
   "execution_count": null,
   "id": "b8b7055b-ea55-4ff9-9b8a-f2be50f90d49",
   "metadata": {},
   "outputs": [],
   "source": [
    "tboard = TensorBoard(log_dir='./logs')\n",
    "stopper = EarlyStopping(patience=5)\n",
    "checkpts = ModelCheckpoints('./checkpoints/model-1')\n",
    "\n",
    "\n",
    "\n",
    "model.fit_generator(\n",
    "        train_generator,\n",
    "        steps_per_epoch=100,\n",
    "        epochs = 20,\n",
    "        validation_data = val_generator,\n",
    "        validation_steps = 50\n",
    ")"
   ]
  },
  {
   "cell_type": "code",
   "execution_count": null,
   "id": "2d04a3da-0aad-4b70-bdc6-f0bb532a9983",
   "metadata": {},
   "outputs": [],
   "source": []
  }
 ],
 "metadata": {
  "kernelspec": {
   "display_name": "Python 3 (ipykernel)",
   "language": "python",
   "name": "python3"
  },
  "language_info": {
   "codemirror_mode": {
    "name": "ipython",
    "version": 3
   },
   "file_extension": ".py",
   "mimetype": "text/x-python",
   "name": "python",
   "nbconvert_exporter": "python",
   "pygments_lexer": "ipython3",
   "version": "3.9.12"
  }
 },
 "nbformat": 4,
 "nbformat_minor": 5
}
